{
 "cells": [
  {
   "cell_type": "markdown",
   "id": "3b9a8b73-cfff-4dff-bee9-72da3ceb9e05",
   "metadata": {},
   "source": [
    "# Carls' Implementation of QAOA\n",
    "\n",
    "References:\n",
    "\n",
    "https://qiskit.org/textbook/ch-applications/qaoa.html"
   ]
  },
  {
   "cell_type": "code",
   "execution_count": 4,
   "id": "336bb64a-85e9-451f-8670-d9b536a2b1fe",
   "metadata": {},
   "outputs": [
    {
     "name": "stdout",
     "output_type": "stream",
     "text": [
      "Requirement already satisfied: qiskit in /opt/conda/lib/python3.9/site-packages (0.39.5)\n",
      "Requirement already satisfied: qiskit-aer==0.11.2 in /opt/conda/lib/python3.9/site-packages (from qiskit) (0.11.2)\n",
      "Requirement already satisfied: qiskit-ibmq-provider==0.19.2 in /opt/conda/lib/python3.9/site-packages (from qiskit) (0.19.2)\n",
      "Requirement already satisfied: qiskit-terra==0.22.4 in /opt/conda/lib/python3.9/site-packages (from qiskit) (0.22.4)\n",
      "Requirement already satisfied: numpy>=1.16.3 in /opt/conda/lib/python3.9/site-packages (from qiskit-aer==0.11.2->qiskit) (1.23.5)\n",
      "Requirement already satisfied: scipy>=1.0 in /opt/conda/lib/python3.9/site-packages (from qiskit-aer==0.11.2->qiskit) (1.10.0)\n",
      "Requirement already satisfied: python-dateutil>=2.8.0 in /opt/conda/lib/python3.9/site-packages (from qiskit-ibmq-provider==0.19.2->qiskit) (2.8.2)\n",
      "Requirement already satisfied: websockets>=10.0 in /opt/conda/lib/python3.9/site-packages (from qiskit-ibmq-provider==0.19.2->qiskit) (10.4)\n",
      "Requirement already satisfied: requests>=2.19 in /opt/conda/lib/python3.9/site-packages (from qiskit-ibmq-provider==0.19.2->qiskit) (2.27.1)\n",
      "Requirement already satisfied: urllib3>=1.21.1 in /opt/conda/lib/python3.9/site-packages (from qiskit-ibmq-provider==0.19.2->qiskit) (1.26.8)\n",
      "Requirement already satisfied: requests-ntlm>=1.1.0 in /opt/conda/lib/python3.9/site-packages (from qiskit-ibmq-provider==0.19.2->qiskit) (1.1.0)\n",
      "Requirement already satisfied: websocket-client>=1.0.1 in /opt/conda/lib/python3.9/site-packages (from qiskit-ibmq-provider==0.19.2->qiskit) (1.3.1)\n",
      "Requirement already satisfied: retworkx>=0.11.0 in /opt/conda/lib/python3.9/site-packages (from qiskit-terra==0.22.4->qiskit) (0.12.1)\n",
      "Requirement already satisfied: psutil>=5 in /opt/conda/lib/python3.9/site-packages (from qiskit-terra==0.22.4->qiskit) (5.9.0)\n",
      "Requirement already satisfied: ply>=3.10 in /opt/conda/lib/python3.9/site-packages (from qiskit-terra==0.22.4->qiskit) (3.11)\n",
      "Requirement already satisfied: sympy>=1.3 in /opt/conda/lib/python3.9/site-packages (from qiskit-terra==0.22.4->qiskit) (1.11.1)\n",
      "Requirement already satisfied: dill>=0.3 in /opt/conda/lib/python3.9/site-packages (from qiskit-terra==0.22.4->qiskit) (0.3.6)\n",
      "Requirement already satisfied: stevedore>=3.0.0 in /opt/conda/lib/python3.9/site-packages (from qiskit-terra==0.22.4->qiskit) (4.1.1)\n",
      "Requirement already satisfied: symengine>=0.9 in /opt/conda/lib/python3.9/site-packages (from qiskit-terra==0.22.4->qiskit) (0.9.2)\n",
      "Requirement already satisfied: tweedledum<2.0,>=1.1 in /opt/conda/lib/python3.9/site-packages (from qiskit-terra==0.22.4->qiskit) (1.1.1)\n",
      "Requirement already satisfied: six>=1.5 in /opt/conda/lib/python3.9/site-packages (from python-dateutil>=2.8.0->qiskit-ibmq-provider==0.19.2->qiskit) (1.16.0)\n",
      "Requirement already satisfied: charset-normalizer~=2.0.0 in /opt/conda/lib/python3.9/site-packages (from requests>=2.19->qiskit-ibmq-provider==0.19.2->qiskit) (2.0.12)\n",
      "Requirement already satisfied: idna<4,>=2.5 in /opt/conda/lib/python3.9/site-packages (from requests>=2.19->qiskit-ibmq-provider==0.19.2->qiskit) (3.3)\n",
      "Requirement already satisfied: certifi>=2017.4.17 in /opt/conda/lib/python3.9/site-packages (from requests>=2.19->qiskit-ibmq-provider==0.19.2->qiskit) (2022.12.7)\n",
      "Requirement already satisfied: ntlm-auth>=1.0.2 in /opt/conda/lib/python3.9/site-packages (from requests-ntlm>=1.1.0->qiskit-ibmq-provider==0.19.2->qiskit) (1.5.0)\n",
      "Requirement already satisfied: cryptography>=1.3 in /opt/conda/lib/python3.9/site-packages (from requests-ntlm>=1.1.0->qiskit-ibmq-provider==0.19.2->qiskit) (36.0.1)\n",
      "Requirement already satisfied: rustworkx==0.12.1 in /opt/conda/lib/python3.9/site-packages (from retworkx>=0.11.0->qiskit-terra==0.22.4->qiskit) (0.12.1)\n",
      "Requirement already satisfied: pbr!=2.1.0,>=2.0.0 in /opt/conda/lib/python3.9/site-packages (from stevedore>=3.0.0->qiskit-terra==0.22.4->qiskit) (5.11.1)\n",
      "Requirement already satisfied: mpmath>=0.19 in /opt/conda/lib/python3.9/site-packages (from sympy>=1.3->qiskit-terra==0.22.4->qiskit) (1.2.1)\n",
      "Requirement already satisfied: cffi>=1.12 in /opt/conda/lib/python3.9/site-packages (from cryptography>=1.3->requests-ntlm>=1.1.0->qiskit-ibmq-provider==0.19.2->qiskit) (1.15.0)\n",
      "Requirement already satisfied: pycparser in /opt/conda/lib/python3.9/site-packages (from cffi>=1.12->cryptography>=1.3->requests-ntlm>=1.1.0->qiskit-ibmq-provider==0.19.2->qiskit) (2.21)\n",
      "Requirement already satisfied: pytket-qiskit in /opt/conda/lib/python3.9/site-packages (0.34.0)\n",
      "Requirement already satisfied: qiskit~=0.39.0 in /opt/conda/lib/python3.9/site-packages (from pytket-qiskit) (0.39.5)\n",
      "Requirement already satisfied: pytket~=1.11 in /opt/conda/lib/python3.9/site-packages (from pytket-qiskit) (1.11.1)\n",
      "Requirement already satisfied: qiskit-ibm-runtime~=0.8.0 in /opt/conda/lib/python3.9/site-packages (from pytket-qiskit) (0.8.0)\n",
      "Requirement already satisfied: numpy<2.0,>=1.21.4 in /opt/conda/lib/python3.9/site-packages (from pytket~=1.11->pytket-qiskit) (1.23.5)\n",
      "Requirement already satisfied: sympy~=1.6 in /opt/conda/lib/python3.9/site-packages (from pytket~=1.11->pytket-qiskit) (1.11.1)\n",
      "Requirement already satisfied: typing-extensions~=4.2 in /opt/conda/lib/python3.9/site-packages (from pytket~=1.11->pytket-qiskit) (4.4.0)\n",
      "Requirement already satisfied: lark-parser~=0.7 in /opt/conda/lib/python3.9/site-packages (from pytket~=1.11->pytket-qiskit) (0.12.0)\n",
      "Requirement already satisfied: types-pkg-resources in /opt/conda/lib/python3.9/site-packages (from pytket~=1.11->pytket-qiskit) (0.1.3)\n",
      "Requirement already satisfied: networkx~=2.4 in /opt/conda/lib/python3.9/site-packages (from pytket~=1.11->pytket-qiskit) (2.8.8)\n",
      "Requirement already satisfied: scipy<2.0,>=1.7.2 in /opt/conda/lib/python3.9/site-packages (from pytket~=1.11->pytket-qiskit) (1.10.0)\n",
      "Requirement already satisfied: jinja2~=3.0 in /opt/conda/lib/python3.9/site-packages (from pytket~=1.11->pytket-qiskit) (3.0.3)\n",
      "Requirement already satisfied: graphviz~=0.14 in /opt/conda/lib/python3.9/site-packages (from pytket~=1.11->pytket-qiskit) (0.20.1)\n",
      "Requirement already satisfied: qwasm~=1.0 in /opt/conda/lib/python3.9/site-packages (from pytket~=1.11->pytket-qiskit) (1.0.1)\n",
      "Requirement already satisfied: qiskit-terra==0.22.4 in /opt/conda/lib/python3.9/site-packages (from qiskit~=0.39.0->pytket-qiskit) (0.22.4)\n",
      "Requirement already satisfied: qiskit-ibmq-provider==0.19.2 in /opt/conda/lib/python3.9/site-packages (from qiskit~=0.39.0->pytket-qiskit) (0.19.2)\n",
      "Requirement already satisfied: qiskit-aer==0.11.2 in /opt/conda/lib/python3.9/site-packages (from qiskit~=0.39.0->pytket-qiskit) (0.11.2)\n",
      "Requirement already satisfied: requests>=2.19 in /opt/conda/lib/python3.9/site-packages (from qiskit-ibmq-provider==0.19.2->qiskit~=0.39.0->pytket-qiskit) (2.27.1)\n",
      "Requirement already satisfied: websocket-client>=1.0.1 in /opt/conda/lib/python3.9/site-packages (from qiskit-ibmq-provider==0.19.2->qiskit~=0.39.0->pytket-qiskit) (1.3.1)\n",
      "Requirement already satisfied: urllib3>=1.21.1 in /opt/conda/lib/python3.9/site-packages (from qiskit-ibmq-provider==0.19.2->qiskit~=0.39.0->pytket-qiskit) (1.26.8)\n",
      "Requirement already satisfied: websockets>=10.0 in /opt/conda/lib/python3.9/site-packages (from qiskit-ibmq-provider==0.19.2->qiskit~=0.39.0->pytket-qiskit) (10.4)\n",
      "Requirement already satisfied: python-dateutil>=2.8.0 in /opt/conda/lib/python3.9/site-packages (from qiskit-ibmq-provider==0.19.2->qiskit~=0.39.0->pytket-qiskit) (2.8.2)\n",
      "Requirement already satisfied: requests-ntlm>=1.1.0 in /opt/conda/lib/python3.9/site-packages (from qiskit-ibmq-provider==0.19.2->qiskit~=0.39.0->pytket-qiskit) (1.1.0)\n",
      "Requirement already satisfied: symengine>=0.9 in /opt/conda/lib/python3.9/site-packages (from qiskit-terra==0.22.4->qiskit~=0.39.0->pytket-qiskit) (0.9.2)\n",
      "Requirement already satisfied: tweedledum<2.0,>=1.1 in /opt/conda/lib/python3.9/site-packages (from qiskit-terra==0.22.4->qiskit~=0.39.0->pytket-qiskit) (1.1.1)\n",
      "Requirement already satisfied: psutil>=5 in /opt/conda/lib/python3.9/site-packages (from qiskit-terra==0.22.4->qiskit~=0.39.0->pytket-qiskit) (5.9.0)\n",
      "Requirement already satisfied: ply>=3.10 in /opt/conda/lib/python3.9/site-packages (from qiskit-terra==0.22.4->qiskit~=0.39.0->pytket-qiskit) (3.11)\n",
      "Requirement already satisfied: retworkx>=0.11.0 in /opt/conda/lib/python3.9/site-packages (from qiskit-terra==0.22.4->qiskit~=0.39.0->pytket-qiskit) (0.12.1)\n",
      "Requirement already satisfied: dill>=0.3 in /opt/conda/lib/python3.9/site-packages (from qiskit-terra==0.22.4->qiskit~=0.39.0->pytket-qiskit) (0.3.6)\n",
      "Requirement already satisfied: stevedore>=3.0.0 in /opt/conda/lib/python3.9/site-packages (from qiskit-terra==0.22.4->qiskit~=0.39.0->pytket-qiskit) (4.1.1)\n",
      "Requirement already satisfied: ibm-platform-services>=0.22.6 in /opt/conda/lib/python3.9/site-packages (from qiskit-ibm-runtime~=0.8.0->pytket-qiskit) (0.31.0)\n",
      "Requirement already satisfied: ibm-cloud-sdk-core<4.0.0,>=3.16.0 in /opt/conda/lib/python3.9/site-packages (from ibm-platform-services>=0.22.6->qiskit-ibm-runtime~=0.8.0->pytket-qiskit) (3.16.1)\n",
      "Requirement already satisfied: MarkupSafe>=2.0 in /opt/conda/lib/python3.9/site-packages (from jinja2~=3.0->pytket~=1.11->pytket-qiskit) (2.1.1)\n",
      "Requirement already satisfied: six>=1.5 in /opt/conda/lib/python3.9/site-packages (from python-dateutil>=2.8.0->qiskit-ibmq-provider==0.19.2->qiskit~=0.39.0->pytket-qiskit) (1.16.0)\n",
      "Requirement already satisfied: setuptools in /opt/conda/lib/python3.9/site-packages (from qwasm~=1.0->pytket~=1.11->pytket-qiskit) (60.9.3)\n",
      "Requirement already satisfied: idna<4,>=2.5 in /opt/conda/lib/python3.9/site-packages (from requests>=2.19->qiskit-ibmq-provider==0.19.2->qiskit~=0.39.0->pytket-qiskit) (3.3)\n",
      "Requirement already satisfied: certifi>=2017.4.17 in /opt/conda/lib/python3.9/site-packages (from requests>=2.19->qiskit-ibmq-provider==0.19.2->qiskit~=0.39.0->pytket-qiskit) (2022.12.7)\n",
      "Requirement already satisfied: charset-normalizer~=2.0.0 in /opt/conda/lib/python3.9/site-packages (from requests>=2.19->qiskit-ibmq-provider==0.19.2->qiskit~=0.39.0->pytket-qiskit) (2.0.12)\n",
      "Requirement already satisfied: cryptography>=1.3 in /opt/conda/lib/python3.9/site-packages (from requests-ntlm>=1.1.0->qiskit-ibmq-provider==0.19.2->qiskit~=0.39.0->pytket-qiskit) (36.0.1)\n",
      "Requirement already satisfied: ntlm-auth>=1.0.2 in /opt/conda/lib/python3.9/site-packages (from requests-ntlm>=1.1.0->qiskit-ibmq-provider==0.19.2->qiskit~=0.39.0->pytket-qiskit) (1.5.0)\n",
      "Requirement already satisfied: mpmath>=0.19 in /opt/conda/lib/python3.9/site-packages (from sympy~=1.6->pytket~=1.11->pytket-qiskit) (1.2.1)\n",
      "Requirement already satisfied: cffi>=1.12 in /opt/conda/lib/python3.9/site-packages (from cryptography>=1.3->requests-ntlm>=1.1.0->qiskit-ibmq-provider==0.19.2->qiskit~=0.39.0->pytket-qiskit) (1.15.0)\n",
      "Requirement already satisfied: PyJWT<3.0.0,>=2.4.0 in /opt/conda/lib/python3.9/site-packages (from ibm-cloud-sdk-core<4.0.0,>=3.16.0->ibm-platform-services>=0.22.6->qiskit-ibm-runtime~=0.8.0->pytket-qiskit) (2.6.0)\n",
      "Requirement already satisfied: rustworkx==0.12.1 in /opt/conda/lib/python3.9/site-packages (from retworkx>=0.11.0->qiskit-terra==0.22.4->qiskit~=0.39.0->pytket-qiskit) (0.12.1)\n",
      "Requirement already satisfied: pbr!=2.1.0,>=2.0.0 in /opt/conda/lib/python3.9/site-packages (from stevedore>=3.0.0->qiskit-terra==0.22.4->qiskit~=0.39.0->pytket-qiskit) (5.11.1)\n",
      "Requirement already satisfied: pycparser in /opt/conda/lib/python3.9/site-packages (from cffi>=1.12->cryptography>=1.3->requests-ntlm>=1.1.0->qiskit-ibmq-provider==0.19.2->qiskit~=0.39.0->pytket-qiskit) (2.21)\n",
      "Requirement already satisfied: pytket in /opt/conda/lib/python3.9/site-packages (1.11.1)\n",
      "Requirement already satisfied: typing-extensions~=4.2 in /opt/conda/lib/python3.9/site-packages (from pytket) (4.4.0)\n",
      "Requirement already satisfied: lark-parser~=0.7 in /opt/conda/lib/python3.9/site-packages (from pytket) (0.12.0)\n",
      "Requirement already satisfied: numpy<2.0,>=1.21.4 in /opt/conda/lib/python3.9/site-packages (from pytket) (1.23.5)\n",
      "Requirement already satisfied: jinja2~=3.0 in /opt/conda/lib/python3.9/site-packages (from pytket) (3.0.3)\n",
      "Requirement already satisfied: graphviz~=0.14 in /opt/conda/lib/python3.9/site-packages (from pytket) (0.20.1)\n",
      "Requirement already satisfied: sympy~=1.6 in /opt/conda/lib/python3.9/site-packages (from pytket) (1.11.1)\n",
      "Requirement already satisfied: types-pkg-resources in /opt/conda/lib/python3.9/site-packages (from pytket) (0.1.3)\n",
      "Requirement already satisfied: qwasm~=1.0 in /opt/conda/lib/python3.9/site-packages (from pytket) (1.0.1)\n",
      "Requirement already satisfied: scipy<2.0,>=1.7.2 in /opt/conda/lib/python3.9/site-packages (from pytket) (1.10.0)\n",
      "Requirement already satisfied: networkx~=2.4 in /opt/conda/lib/python3.9/site-packages (from pytket) (2.8.8)\n",
      "Requirement already satisfied: MarkupSafe>=2.0 in /opt/conda/lib/python3.9/site-packages (from jinja2~=3.0->pytket) (2.1.1)\n",
      "Requirement already satisfied: setuptools in /opt/conda/lib/python3.9/site-packages (from qwasm~=1.0->pytket) (60.9.3)\n",
      "Requirement already satisfied: mpmath>=0.19 in /opt/conda/lib/python3.9/site-packages (from sympy~=1.6->pytket) (1.2.1)\n"
     ]
    }
   ],
   "source": [
    "!pip3 install qiskit\n",
    "import networkx as nx\n",
    "import matplotlib.pyplot as plt\n",
    "\n",
    "from qiskit import QuantumCircuit, ClassicalRegister, QuantumRegister\n",
    "from qiskit import Aer, execute\n",
    "from qiskit.circuit import Parameter\n",
    "from qiskit.tools.visualization import circuit_drawer\n",
    "from qiskit.visualization import plot_histogram\n",
    "\n",
    "\n",
    "from scipy.optimize import minimize\n",
    "\n",
    "!pip3 install pytket-qiskit\n",
    "!pip3 install pytket\n",
    "import pytket\n",
    "from pytket.extensions.quantinuum import QuantinuumBackend\n",
    "\n",
    "from pytket.extensions.qiskit import qiskit_to_tk\n",
    "from pytket.circuit.display import render_circuit_jupyter"
   ]
  },
  {
   "cell_type": "markdown",
   "id": "04bfac30-1363-4112-963a-e28d73d3ee5b",
   "metadata": {},
   "source": [
    "## Connecting with Quantinuum H1-2E Machine"
   ]
  },
  {
   "cell_type": "code",
   "execution_count": 5,
   "id": "2bf9f056-3a14-4609-bd63-b8a65d15a85a",
   "metadata": {},
   "outputs": [
    {
     "name": "stdin",
     "output_type": "stream",
     "text": [
      "Enter your Quantinuum email:  elchun@mit.edu\n",
      "Enter your Quantinuum password:  ········\n"
     ]
    },
    {
     "name": "stdout",
     "output_type": "stream",
     "text": [
      "H1-2E status:  online\n"
     ]
    }
   ],
   "source": [
    "machine = 'H1-2E'\n",
    "backend = QuantinuumBackend(device_name=machine)\n",
    "backend.login()\n",
    "print(machine, \"status: \", backend.device_state(device_name=machine))"
   ]
  },
  {
   "cell_type": "markdown",
   "id": "55d1484b-dfc2-44c6-aeca-429962e3e11d",
   "metadata": {},
   "source": [
    "## Create QUBO Instance\n",
    "\n",
    "We first create an instance of a Quadratic Unconstrained Binary Optimization problem.\n",
    "\n",
    "In this example, we solve the Max-Cut problem"
   ]
  },
  {
   "cell_type": "code",
   "execution_count": null,
   "id": "12fe7a43-8df8-4dd9-980b-c9e8b761a814",
   "metadata": {},
   "outputs": [],
   "source": []
  },
  {
   "cell_type": "code",
   "execution_count": 7,
   "id": "33f41cc0-8a5e-42dc-a5ea-b30eb4e01a1c",
   "metadata": {},
   "outputs": [
    {
     "data": {
      "image/png": "[encoded data removed]",
      "text/plain": [
       "<Figure size 432x288 with 1 Axes>"
      ]
     },
     "metadata": {},
     "output_type": "display_data"
    }
   ],
   "source": [
    "n_qubits = 7\n",
    "p = 1\n",
    "shots = 1000\n",
    "G = nx.Graph()\n",
    "G.add_nodes_from([0, 1, 2, 3,4,5])\n",
    "# G.add_edges_from([(0, 1), (0, 2), (0, 3), (0, 4), (0, 5)])\n",
    "G.add_edges_from([(0, 1), (1, 2), (1, 3), (3, 4), (4,5), (4,6)])\n",
    "nx.draw(G, with_labels=True, alpha=0.8, node_size=500)"
   ]
  },
  {
   "cell_type": "markdown",
   "id": "a0836e05-00a2-4545-b392-a81b56ab8be6",
   "metadata": {},
   "source": [
    "## Convert to Quantum Circuit"
   ]
  },
  {
   "cell_type": "markdown",
   "id": "a3fb7c14-2f0e-4a4f-a82f-fcd116ea5629",
   "metadata": {},
   "source": [
    "### Create Mixing Quantum Circuit"
   ]
  },
  {
   "cell_type": "code",
   "execution_count": 8,
   "id": "246566da-d204-4d29-9be5-34553f227156",
   "metadata": {},
   "outputs": [
    {
     "data": {
      "image/png": "[encoded data removed]",
      "text/plain": [
       "<Figure size 146.797x445.48 with 1 Axes>"
      ]
     },
     "execution_count": 8,
     "metadata": {},
     "output_type": "execute_result"
    }
   ],
   "source": [
    "def create_mixing_qc(n_qubits, beta):\n",
    "    qc_mix = QuantumCircuit(n_qubits)\n",
    "    for i in range(0, n_qubits):\n",
    "        qc_mix.rx(2 * beta, i)\n",
    "    return qc_mix\n",
    "\n",
    "qc = create_mixing_qc(n_qubits, Parameter(\"$\\\\beta$\"))\n",
    "\n",
    "circuit_drawer(qc, output='mpl', style={'backgroundcolor': '#EEEEEE'})\n",
    "\n",
    "        "
   ]
  },
  {
   "cell_type": "markdown",
   "id": "a7f511aa-4bd6-4084-bd02-304d80fa2bab",
   "metadata": {},
   "source": [
    "### Create Problem Quantum Circuit"
   ]
  },
  {
   "cell_type": "code",
   "execution_count": 9,
   "id": "37f548a6-fd88-4cd0-8dec-15bf7ac519b9",
   "metadata": {},
   "outputs": [
    {
     "data": {
      "image/png": "[encoded data removed]",
      "text/plain": [
       "<Figure size 808.997x445.48 with 1 Axes>"
      ]
     },
     "execution_count": 9,
     "metadata": {},
     "output_type": "execute_result"
    }
   ],
   "source": [
    "def create_graph_problem_qc(G, n_qubits, gamma):\n",
    "    qc_p = QuantumCircuit(n_qubits)\n",
    "    for pair in list(G.edges()):  # pairs of nodes\n",
    "        qc_p.rzz(2 * gamma, pair[0], pair[1])\n",
    "        # qc_p.barrier()\n",
    "    return qc_p\n",
    "\n",
    "qc = create_graph_problem_qc(G, n_qubits, Parameter(\"$\\\\gamma$\"))\n",
    "circuit_drawer(qc, output='mpl', style={'backgroundcolor': '#EEEEEE'})         "
   ]
  },
  {
   "cell_type": "markdown",
   "id": "e8240e1b-60c0-47a5-832c-10648c515c07",
   "metadata": {},
   "source": [
    "### Create Initial State"
   ]
  },
  {
   "cell_type": "code",
   "execution_count": 10,
   "id": "e47e430b-c815-4d8d-a154-01d089998c48",
   "metadata": {},
   "outputs": [
    {
     "data": {
      "image/png": "[encoded data removed]",
      "text/plain": [
       "<Figure size 146.797x445.48 with 1 Axes>"
      ]
     },
     "execution_count": 10,
     "metadata": {},
     "output_type": "execute_result"
    }
   ],
   "source": [
    "def create_initial_qc(n_qubits):\n",
    "    qc_0 = QuantumCircuit(n_qubits)\n",
    "    for i in range(0, n_qubits):\n",
    "        qc_0.h(i)\n",
    "    return qc_0\n",
    "\n",
    "qc = create_initial_qc(n_qubits)\n",
    "circuit_drawer(qc, output='mpl', style={'backgroundcolor': '#EEEEEE'})         "
   ]
  },
  {
   "cell_type": "markdown",
   "id": "adbe7df1-a4a4-4a34-83ed-2b7495571d02",
   "metadata": {},
   "source": [
    "### Combine into QAOA Circuit"
   ]
  },
  {
   "cell_type": "code",
   "execution_count": 11,
   "id": "7257046b-3048-4c29-9d45-f8238be82588",
   "metadata": {},
   "outputs": [
    {
     "data": {
      "image/png": "[encoded data removed]",
      "text/plain": [
       "<Figure size 1621.88x1047.48 with 1 Axes>"
      ]
     },
     "execution_count": 11,
     "metadata": {},
     "output_type": "execute_result"
    }
   ],
   "source": [
    "def create_qaoa_circ(n_qubits, problem_qc_generator, mixing_qc_generator, \n",
    "                     beta_list, gamma_list):\n",
    "    qc = QuantumCircuit(n_qubits)\n",
    "    \n",
    "    # Add initial state and specify which qubits to attach\n",
    "    attach_qubits = [i for i in range(0, n_qubits)]\n",
    "    qc.append(create_initial_qc(n_qubits), attach_qubits[:])\n",
    "    \n",
    "    assert len(beta_list) == len(gamma_list), 'Beta and gamma list must \\\n",
    "        be the same length'\n",
    "    n_reps = len(beta_list)\n",
    "    \n",
    "    # Now add repeated applications of problem and mixing circuits\n",
    "    for rep in range(0, n_reps):\n",
    "        qc.append(problem_qc_generator(n_qubits, gamma_list[rep]), attach_qubits[:])\n",
    "        qc.append(mixing_qc_generator(n_qubits, beta_list[rep]), attach_qubits[:])\n",
    "    \n",
    "    qc.measure_all()\n",
    "    return qc\n",
    "\n",
    "beta = Parameter(\"$\\\\beta$\")\n",
    "gamma = Parameter(\"$\\\\gamma$\")\n",
    "beta_list = [beta for _ in range(p)]\n",
    "gamma_list = [gamma for _ in range(p)]\n",
    "\n",
    "# Define wrappers for problem qc and mixing qc generator.\n",
    "# This allows us to solve a variety of QUBO problems with the same stack.\n",
    "def graph_qc_generator(n_qubits, gamma):\n",
    "    return create_graph_problem_qc(G, n_qubits, gamma)\n",
    "\n",
    "def mixing_qc_generator(n_qubits, beta):\n",
    "    return create_mixing_qc(n_qubits, beta)\n",
    "\n",
    "\n",
    "qc = create_qaoa_circ(n_qubits, graph_qc_generator, mixing_qc_generator,\n",
    "                      beta_list, gamma_list)\n",
    "\n",
    "# Decompose to show individual elements, then draw\n",
    "circuit_drawer(qc.decompose().decompose(), output='mpl', style={'backgroundcolor': '#EEEEEE'})         "
   ]
  },
  {
   "cell_type": "markdown",
   "id": "62334c76-0169-4248-8506-e458226d013b",
   "metadata": {},
   "source": [
    "### Create helper method to calculate expection"
   ]
  },
  {
   "cell_type": "code",
   "execution_count": 27,
   "id": "c872cb60-2162-470d-8701-efb92d139096",
   "metadata": {},
   "outputs": [
    {
     "data": {
      "text/plain": [
       "<function __main__.get_expectation.<locals>.execute_circ(theta)>"
      ]
     },
     "execution_count": 27,
     "metadata": {},
     "output_type": "execute_result"
    }
   ],
   "source": [
    "def maxcut_obj(x, G):\n",
    "    \"\"\"\n",
    "    Given a bitstring as a solution, this function returns\n",
    "    the number of edges shared between the two partitions\n",
    "    of the graph.\n",
    "    \n",
    "    Args:\n",
    "        x: str\n",
    "           solution bitstring\n",
    "           \n",
    "        G: networkx graph\n",
    "        \n",
    "    Returns:\n",
    "        obj: float\n",
    "             Objective\n",
    "    \"\"\"\n",
    "    obj = 0\n",
    "    for i, j in G.edges():\n",
    "        if x[i] != x[j]:\n",
    "            obj -= 1\n",
    "            \n",
    "    return obj\n",
    "\n",
    "\n",
    "# def compute_expectation(counts, G):\n",
    "    \n",
    "#     \"\"\"\n",
    "#     Computes expectation value based on measurement results\n",
    "    \n",
    "#     Args:\n",
    "#         counts: dict\n",
    "#                 key as bitstring, val as count\n",
    "           \n",
    "#         G: networkx graph\n",
    "        \n",
    "#     Returns:\n",
    "#         avg: float\n",
    "#              expectation value\n",
    "#     \"\"\"\n",
    "    \n",
    "#     avg = 0\n",
    "#     sum_count = 0\n",
    "#     for bitstring, count in counts.items():\n",
    "        \n",
    "#         obj = maxcut_obj(str(bitstring[::-1]), G)\n",
    "#         avg += obj * count\n",
    "#         sum_count += count\n",
    "        \n",
    "#     return avg/sum_count\n",
    "\n",
    "def compute_expectation_tket(counts, G):\n",
    "    avg = 0\n",
    "    sum_count = 0\n",
    "    for bitstring, count in counts.items():\n",
    "        \n",
    "        obj = maxcut_obj(bitstring[::-1], G)\n",
    "        avg += obj * count\n",
    "        sum_count += count\n",
    "        \n",
    "    return avg/sum_count\n",
    "\n",
    "    \n",
    "\n",
    "\n",
    "def get_expectation(problem_qc_generator, mixing_qc_generator, n_qubits, shots=1028):\n",
    "    \"\"\"\n",
    "    Runs parametrized circuit\n",
    "    \n",
    "    Args:\n",
    "        G: networkx graph\n",
    "        p: int,\n",
    "           Number of repetitions of unitaries\n",
    "    \"\"\"\n",
    "    \n",
    "    # backend = Aer.get_backend('qasm_simulator')\n",
    "    \n",
    "    def execute_circ(theta):\n",
    "        midpt = len(theta) // 2\n",
    "        beta_list = theta[:midpt]\n",
    "        gamma_list = theta[midpt:]\n",
    "        \n",
    "        qc = create_qaoa_circ(n_qubits, problem_qc_generator, mixing_qc_generator,\n",
    "                          beta_list, gamma_list)\n",
    "        \n",
    "        tk_qc = qiskit_to_tk(qc)\n",
    "        tk_qc.measure_all()\n",
    "        # There are three levels of optimization (we set to 1 for now)\n",
    "        compiled_qc = backend.get_compiled_circuit(tk_qc, optimisation_level=1)\n",
    "        \n",
    "        handle = backend.process_circuit(compiled_qc, n_shots=shots)\n",
    "        print('handle: ', handle)\n",
    "        status = backend.circuit_status(handle)\n",
    "        print('status: \\n', status)\n",
    "        \n",
    "        results = backend.get_result(handle)\n",
    "        counts = results.get_counts()\n",
    "        \n",
    "        # # Have to decompose in order to run backend\n",
    "        # counts = backend.run(qc.decompose().decompose(), seed_simulator=10, \n",
    "        #                      shots=shots).result().get_counts()\n",
    "\n",
    "        return compute_expectation_tket(counts, G)\n",
    "    \n",
    "    return execute_circ\n",
    "\n",
    "def graph_qc_generator(n_qubits, gamma):\n",
    "    return create_graph_problem_qc(G, n_qubits, gamma)\n",
    "\n",
    "def mixing_qc_generator(n_qubits, beta):\n",
    "    return create_mixing_qc(n_qubits, beta)\n",
    "\n",
    "# This returns a function which can optimize classically\n",
    "get_expectation(graph_qc_generator, mixing_qc_generator, n_qubits, shots)\n"
   ]
  },
  {
   "cell_type": "markdown",
   "id": "b809f239-87ed-44b4-ac67-e6087f13c4da",
   "metadata": {},
   "source": [
    "### Run QAOA"
   ]
  },
  {
   "cell_type": "code",
   "execution_count": 28,
   "id": "7beb1a24-e670-4547-a563-b2db97e4b954",
   "metadata": {},
   "outputs": [
    {
     "name": "stdout",
     "output_type": "stream",
     "text": [
      "handle:  ('30934e86242a44bc989ffce11d5e9287', 'null')\n",
      "status: \n",
      " CircuitStatus(status=<StatusEnum.QUEUED: 'Circuit is queued.'>, message='{\"name\": \"circuit-352\", \"submit-date\": \"2023-01-29T07:34:04.646716\", \"result-date\": null, \"queue-position\": null, \"cost\": null, \"error\": null}', error_detail=None, completed_time=None, queued_time=None, submitted_time=None, running_time=None, cancelled_time=None, error_time=None, queue_position=None)\n",
      "handle:  ('3e3deff47ab5421da71a435052918beb', 'null')\n",
      "status: \n",
      " CircuitStatus(status=<StatusEnum.QUEUED: 'Circuit is queued.'>, message='{\"name\": \"circuit-362\", \"submit-date\": \"2023-01-29T07:34:25.944925\", \"result-date\": null, \"queue-position\": null, \"cost\": null, \"error\": null}', error_detail=None, completed_time=None, queued_time=None, submitted_time=None, running_time=None, cancelled_time=None, error_time=None, queue_position=None)\n",
      "handle:  ('c915397aa1354150b5006d7785b0bb75', 'null')\n",
      "status: \n",
      " CircuitStatus(status=<StatusEnum.QUEUED: 'Circuit is queued.'>, message='{\"name\": \"circuit-372\", \"submit-date\": \"2023-01-29T07:35:12.609839\", \"result-date\": null, \"queue-position\": null, \"cost\": null, \"error\": null}', error_detail=None, completed_time=None, queued_time=None, submitted_time=None, running_time=None, cancelled_time=None, error_time=None, queue_position=None)\n",
      "handle:  ('ca125366aa5c413f8cf803e6069db4b7', 'null')\n",
      "status: \n",
      " CircuitStatus(status=<StatusEnum.QUEUED: 'Circuit is queued.'>, message='{\"name\": \"circuit-382\", \"submit-date\": \"2023-01-29T07:35:57.112592\", \"result-date\": null, \"queue-position\": null, \"cost\": null, \"error\": null}', error_detail=None, completed_time=None, queued_time=None, submitted_time=None, running_time=None, cancelled_time=None, error_time=None, queue_position=None)\n",
      "handle:  ('fcd011b330444803b71f3b7d4aef4111', 'null')\n",
      "status: \n",
      " CircuitStatus(status=<StatusEnum.QUEUED: 'Circuit is queued.'>, message='{\"name\": \"circuit-392\", \"submit-date\": \"2023-01-29T07:36:44.692634\", \"result-date\": null, \"queue-position\": null, \"cost\": null, \"error\": null}', error_detail=None, completed_time=None, queued_time=None, submitted_time=None, running_time=None, cancelled_time=None, error_time=None, queue_position=None)\n",
      "handle:  ('f4e2912190624ae19d44da76184633c4', 'null')\n",
      "status: \n",
      " CircuitStatus(status=<StatusEnum.QUEUED: 'Circuit is queued.'>, message='{\"name\": \"circuit-402\", \"submit-date\": \"2023-01-29T07:37:19.679623\", \"result-date\": null, \"queue-position\": null, \"cost\": null, \"error\": null}', error_detail=None, completed_time=None, queued_time=None, submitted_time=None, running_time=None, cancelled_time=None, error_time=None, queue_position=None)\n",
      "handle:  ('b34ac830dedf458dbfc57fde232d3710', 'null')\n",
      "status: \n",
      " CircuitStatus(status=<StatusEnum.QUEUED: 'Circuit is queued.'>, message='{\"name\": \"circuit-412\", \"submit-date\": \"2023-01-29T07:37:42.872299\", \"result-date\": null, \"queue-position\": null, \"cost\": null, \"error\": null}', error_detail=None, completed_time=None, queued_time=None, submitted_time=None, running_time=None, cancelled_time=None, error_time=None, queue_position=None)\n",
      "handle:  ('eaa3706234644bf18d95e5ff024db813', 'null')\n",
      "status: \n",
      " CircuitStatus(status=<StatusEnum.QUEUED: 'Circuit is queued.'>, message='{\"name\": \"circuit-422\", \"submit-date\": \"2023-01-29T07:38:40.452396\", \"result-date\": null, \"queue-position\": null, \"cost\": null, \"error\": null}', error_detail=None, completed_time=None, queued_time=None, submitted_time=None, running_time=None, cancelled_time=None, error_time=None, queue_position=None)\n",
      "handle:  ('2ef9f72d7c324255bad53ad7a6db7c0e', 'null')\n",
      "status: \n",
      " CircuitStatus(status=<StatusEnum.QUEUED: 'Circuit is queued.'>, message='{\"name\": \"circuit-432\", \"submit-date\": \"2023-01-29T07:39:36.931174\", \"result-date\": null, \"queue-position\": null, \"cost\": null, \"error\": null}', error_detail=None, completed_time=None, queued_time=None, submitted_time=None, running_time=None, cancelled_time=None, error_time=None, queue_position=None)\n",
      "handle:  ('1d0fbdc31adc477192f93ce4a877bd6f', 'null')\n",
      "status: \n",
      " CircuitStatus(status=<StatusEnum.QUEUED: 'Circuit is queued.'>, message='{\"name\": \"circuit-442\", \"submit-date\": \"2023-01-29T07:40:34.766109\", \"result-date\": null, \"queue-position\": null, \"cost\": null, \"error\": null}', error_detail=None, completed_time=None, queued_time=None, submitted_time=None, running_time=None, cancelled_time=None, error_time=None, queue_position=None)\n",
      "handle:  ('ddf9e4f01bc04815bf4710d29cdec88b', 'null')\n",
      "status: \n",
      " CircuitStatus(status=<StatusEnum.QUEUED: 'Circuit is queued.'>, message='{\"name\": \"circuit-452\", \"submit-date\": \"2023-01-29T07:41:32.249102\", \"result-date\": null, \"queue-position\": null, \"cost\": null, \"error\": null}', error_detail=None, completed_time=None, queued_time=None, submitted_time=None, running_time=None, cancelled_time=None, error_time=None, queue_position=None)\n",
      "handle:  ('db3160b5b2db4992a1186de24752eea5', 'null')\n",
      "status: \n",
      " CircuitStatus(status=<StatusEnum.QUEUED: 'Circuit is queued.'>, message='{\"name\": \"circuit-462\", \"submit-date\": \"2023-01-29T07:42:06.158210\", \"result-date\": null, \"queue-position\": null, \"cost\": null, \"error\": null}', error_detail=None, completed_time=None, queued_time=None, submitted_time=None, running_time=None, cancelled_time=None, error_time=None, queue_position=None)\n",
      "handle:  ('96caa40ed5fd419a88ed490b5b87cef9', 'null')\n",
      "status: \n",
      " CircuitStatus(status=<StatusEnum.QUEUED: 'Circuit is queued.'>, message='{\"name\": \"circuit-472\", \"submit-date\": \"2023-01-29T07:42:52.608392\", \"result-date\": null, \"queue-position\": null, \"cost\": null, \"error\": null}', error_detail=None, completed_time=None, queued_time=None, submitted_time=None, running_time=None, cancelled_time=None, error_time=None, queue_position=None)\n",
      "handle:  ('8d8f40a791c4443db66c38b83f7c6329', 'null')\n",
      "status: \n",
      " CircuitStatus(status=<StatusEnum.QUEUED: 'Circuit is queued.'>, message='{\"name\": \"circuit-482\", \"submit-date\": \"2023-01-29T07:43:38.280544\", \"result-date\": null, \"queue-position\": null, \"cost\": null, \"error\": null}', error_detail=None, completed_time=None, queued_time=None, submitted_time=None, running_time=None, cancelled_time=None, error_time=None, queue_position=None)\n",
      "handle:  ('3a9cd4dfb9f04aa48974d5e2b6c0e9d3', 'null')\n",
      "status: \n",
      " CircuitStatus(status=<StatusEnum.QUEUED: 'Circuit is queued.'>, message='{\"name\": \"circuit-492\", \"submit-date\": \"2023-01-29T07:44:11.975429\", \"result-date\": null, \"queue-position\": null, \"cost\": null, \"error\": null}', error_detail=None, completed_time=None, queued_time=None, submitted_time=None, running_time=None, cancelled_time=None, error_time=None, queue_position=None)\n",
      "handle:  ('6b548ef2810f461dbbab4035f0ad9894', 'null')\n",
      "status: \n",
      " CircuitStatus(status=<StatusEnum.QUEUED: 'Circuit is queued.'>, message='{\"name\": \"circuit-502\", \"submit-date\": \"2023-01-29T07:45:34.799176\", \"result-date\": null, \"queue-position\": null, \"cost\": null, \"error\": null}', error_detail=None, completed_time=None, queued_time=None, submitted_time=None, running_time=None, cancelled_time=None, error_time=None, queue_position=None)\n",
      "handle:  ('991ae33972044f4998162d55071daf51', 'null')\n",
      "status: \n",
      " CircuitStatus(status=<StatusEnum.QUEUED: 'Circuit is queued.'>, message='{\"name\": \"circuit-512\", \"submit-date\": \"2023-01-29T07:46:10.201923\", \"result-date\": null, \"queue-position\": null, \"cost\": null, \"error\": null}', error_detail=None, completed_time=None, queued_time=None, submitted_time=None, running_time=None, cancelled_time=None, error_time=None, queue_position=None)\n",
      "handle:  ('72a640295c504b97b50f2b461ec805dd', 'null')\n",
      "status: \n",
      " CircuitStatus(status=<StatusEnum.QUEUED: 'Circuit is queued.'>, message='{\"name\": \"circuit-522\", \"submit-date\": \"2023-01-29T07:46:45.356822\", \"result-date\": null, \"queue-position\": null, \"cost\": null, \"error\": null}', error_detail=None, completed_time=None, queued_time=None, submitted_time=None, running_time=None, cancelled_time=None, error_time=None, queue_position=None)\n",
      "handle:  ('03cb28a8723b4ea98da6aa769d74ae13', 'null')\n",
      "status: \n",
      " CircuitStatus(status=<StatusEnum.QUEUED: 'Circuit is queued.'>, message='{\"name\": \"circuit-532\", \"submit-date\": \"2023-01-29T07:47:19.540048\", \"result-date\": null, \"queue-position\": null, \"cost\": null, \"error\": null}', error_detail=None, completed_time=None, queued_time=None, submitted_time=None, running_time=None, cancelled_time=None, error_time=None, queue_position=None)\n",
      "handle:  ('b7dc3fdc60cd408e94639e328f28cd95', 'null')\n",
      "status: \n",
      " CircuitStatus(status=<StatusEnum.QUEUED: 'Circuit is queued.'>, message='{\"name\": \"circuit-542\", \"submit-date\": \"2023-01-29T07:47:42.842245\", \"result-date\": null, \"queue-position\": null, \"cost\": null, \"error\": null}', error_detail=None, completed_time=None, queued_time=None, submitted_time=None, running_time=None, cancelled_time=None, error_time=None, queue_position=None)\n",
      "handle:  ('4326303fddf4405c90243d236873ec40', 'null')\n",
      "status: \n",
      " CircuitStatus(status=<StatusEnum.QUEUED: 'Circuit is queued.'>, message='{\"name\": \"circuit-552\", \"submit-date\": \"2023-01-29T07:48:17.099394\", \"result-date\": null, \"queue-position\": null, \"cost\": null, \"error\": null}', error_detail=None, completed_time=None, queued_time=None, submitted_time=None, running_time=None, cancelled_time=None, error_time=None, queue_position=None)\n",
      "handle:  ('931da1bcd4b04f97b885d05bb998ed96', 'null')\n",
      "status: \n",
      " CircuitStatus(status=<StatusEnum.QUEUED: 'Circuit is queued.'>, message='{\"name\": \"circuit-562\", \"submit-date\": \"2023-01-29T07:48:39.523440\", \"result-date\": null, \"queue-position\": null, \"cost\": null, \"error\": null}', error_detail=None, completed_time=None, queued_time=None, submitted_time=None, running_time=None, cancelled_time=None, error_time=None, queue_position=None)\n",
      "handle:  ('2705323f8b024c9899eeb86a457b221d', 'null')\n",
      "status: \n",
      " CircuitStatus(status=<StatusEnum.QUEUED: 'Circuit is queued.'>, message='{\"name\": \"circuit-572\", \"submit-date\": \"2023-01-29T07:49:15.443177\", \"result-date\": null, \"queue-position\": null, \"cost\": null, \"error\": null}', error_detail=None, completed_time=None, queued_time=None, submitted_time=None, running_time=None, cancelled_time=None, error_time=None, queue_position=None)\n",
      "handle:  ('6d5cf9f60c284066acbe02d130a77de1', 'null')\n",
      "status: \n",
      " CircuitStatus(status=<StatusEnum.QUEUED: 'Circuit is queued.'>, message='{\"name\": \"circuit-582\", \"submit-date\": \"2023-01-29T07:50:12.137011\", \"result-date\": null, \"queue-position\": null, \"cost\": null, \"error\": null}', error_detail=None, completed_time=None, queued_time=None, submitted_time=None, running_time=None, cancelled_time=None, error_time=None, queue_position=None)\n",
      "handle:  ('248661b4920c4058aa7cf0727ced402b', 'null')\n",
      "status: \n",
      " CircuitStatus(status=<StatusEnum.QUEUED: 'Circuit is queued.'>, message='{\"name\": \"circuit-592\", \"submit-date\": \"2023-01-29T07:50:48.833730\", \"result-date\": null, \"queue-position\": null, \"cost\": null, \"error\": null}', error_detail=None, completed_time=None, queued_time=None, submitted_time=None, running_time=None, cancelled_time=None, error_time=None, queue_position=None)\n",
      " message: Optimization terminated successfully.\n",
      " success: True\n",
      "  status: 1\n",
      "     fun: -3.394\n",
      "       x: [ 1.274e+00  1.115e+00]\n",
      "    nfev: 25\n",
      "   maxcv: 0.0\n",
      "[1.27409057 1.1146796 ]\n"
     ]
    }
   ],
   "source": [
    "def qaoa(problem_qc_generator, mixing_qc_generator, n_qubits, shots):\n",
    "    \n",
    "    expectation = get_expectation(problem_qc_generator, mixing_qc_generator, \n",
    "                                  n_qubits, shots)\n",
    "\n",
    "    initial_theta_value = [1.0 for _ in range(p * 2)]\n",
    "    res = minimize(expectation, \n",
    "                   initial_theta_value,\n",
    "                   method='COBYLA',\n",
    "                   tol=0.001) \n",
    "    \n",
    "    return res\n",
    "    \n",
    "res = qaoa(graph_qc_generator, mixing_qc_generator, n_qubits, shots)\n",
    "print(res)\n",
    "print(res.x)  # [ 1.357e+00  1.125e+00]"
   ]
  },
  {
   "cell_type": "code",
   "execution_count": 2,
   "id": "2376ad33-b488-4ce7-8167-8792aa4407c4",
   "metadata": {},
   "outputs": [
    {
     "ename": "NameError",
     "evalue": "name 'shots' is not defined",
     "output_type": "error",
     "traceback": [
      "\u001b[0;31m---------------------------------------------------------------------------\u001b[0m",
      "\u001b[0;31mNameError\u001b[0m                                 Traceback (most recent call last)",
      "Cell \u001b[0;32mIn[2], line 2\u001b[0m\n\u001b[1;32m      1\u001b[0m \u001b[38;5;66;03m# sim_backend = Aer.get_backend('aer_simulator')\u001b[39;00m\n\u001b[0;32m----> 2\u001b[0m res_shots \u001b[38;5;241m=\u001b[39m \u001b[43mshots\u001b[49m\n\u001b[1;32m      4\u001b[0m \u001b[38;5;28;01mdef\u001b[39;00m \u001b[38;5;21mgraph_qc_generator\u001b[39m(n_qubits, gamma):\n\u001b[1;32m      5\u001b[0m     \u001b[38;5;28;01mreturn\u001b[39;00m create_graph_problem_qc(G, n_qubits, gamma)\n",
      "\u001b[0;31mNameError\u001b[0m: name 'shots' is not defined"
     ]
    }
   ],
   "source": [
    "# sim_backend = Aer.get_backend('aer_simulator')\n",
    "res_shots = shots\n",
    "\n",
    "def graph_qc_generator(n_qubits, gamma):\n",
    "    return create_graph_problem_qc(G, n_qubits, gamma)\n",
    "\n",
    "def mixing_qc_generator(n_qubits, beta):\n",
    "    return create_mixing_qc(n_qubits, beta)\n",
    "\n",
    "beta, gamma = res.x[:p], res.x[p:]\n",
    "\n",
    "qc = create_qaoa_circ(n_qubits, graph_qc_generator, mixing_qc_generator,\n",
    "                          beta, gamma)\n",
    "\n",
    "tk_qc = qiskit_to_tk(qc)\n",
    "tk_qc.measure_all()\n",
    "compiled_qc = backend.get_compiled_circuit(tk_qc, optimisation_level=1)\n",
    "handle = backend.process_circuit(compiled_qc, n_shots=res_shots)\n",
    "status = backend.circuit_status(handle)\n",
    "print('handle: ', handle)\n",
    "print('status: \\n', status)\n",
    "\n",
    "results = backend.get_result(handle)\n",
    "counts = results.get_counts()\n",
    "\n",
    "# counts = sim_backend.run(qc.decompose().decompose(), seed_simulator=10, shots=10000).result().get_counts()\n",
    "\n",
    "\n",
    "# Print out bitstring\n",
    "\n",
    "print(counts)\n",
    "s = []\n",
    "max_val = 0\n",
    "for _ in counts.values():\n",
    "    s.append(_)\n",
    "\n",
    "s.sort()\n",
    "viz = s[-2:]\n",
    "for k, v in counts.items():\n",
    "    if v in viz:\n",
    "        print(k[::-1])\n",
    "\n",
    "print(sum(s))\n",
    "\n",
    "plot_histogram({str(k): v for k, v in counts.items()})"
   ]
  },
  {
   "cell_type": "code",
   "execution_count": null,
   "id": "4e2b5ef0-3a90-4c8a-9968-9a2b64022060",
   "metadata": {},
   "outputs": [],
   "source": []
  }
 ],
 "metadata": {
  "kernelspec": {
   "display_name": "Python 3 [Default]",
   "language": "python",
   "name": "python3"
  },
  "language_info": {
   "codemirror_mode": {
    "name": "ipython",
    "version": 3
   },
   "file_extension": ".py",
   "mimetype": "text/x-python",
   "name": "python",
   "nbconvert_exporter": "python",
   "pygments_lexer": "ipython3",
   "version": "3.9.10"
  }
 },
 "nbformat": 4,
 "nbformat_minor": 5
}
