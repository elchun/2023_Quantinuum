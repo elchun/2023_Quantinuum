{
 "cells": [
  {
   "cell_type": "markdown",
   "id": "7ad969f6-a9e5-4eb0-881f-01499378993a",
   "metadata": {},
   "source": [
    "# Designing QUBOs for use with QAOA\n",
    "\n",
    "QAOA (Quantum Approximate Optimization Algorithm) is an excellent case study in the use of quantum hardware for solving approximation algorithms.  More specifically, QAOA is able to solve all Quadratic Unconstrained Binary Optimization (QUBO) problems.  This summary article will provide an overview of creating QUBOs for use with QAOA."
   ]
  },
  {
   "cell_type": "markdown",
   "id": "66ddbfef-1661-43d9-aff5-4479d7b0c6c4",
   "metadata": {},
   "source": [
    "## QUBO Overview\n",
    "\n",
    "As the name suggests, Quadratic Unconstrained Binary Optimization (QUBO) problems are a specific case of [quadratic optimization](https://en.wikipedia.org/wiki/Quadratic_programming) problem.  Specifically, these problems have no constraints on the optimization solution (Unconstrained)"
   ]
  }
 ],
 "metadata": {
  "kernelspec": {
   "display_name": "Python 3 [Default]",
   "language": "python",
   "name": "python3"
  },
  "language_info": {
   "codemirror_mode": {
    "name": "ipython",
    "version": 3
   },
   "file_extension": ".py",
   "mimetype": "text/x-python",
   "name": "python",
   "nbconvert_exporter": "python",
   "pygments_lexer": "ipython3",
   "version": "3.9.10"
  }
 },
 "nbformat": 4,
 "nbformat_minor": 5
}
